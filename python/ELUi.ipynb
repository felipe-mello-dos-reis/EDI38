{
 "cells": [
  {
   "cell_type": "code",
   "execution_count": 1,
   "metadata": {},
   "outputs": [],
   "source": [
    "import numpy as np\n",
    "import matplotlib.pyplot as plt\n",
    "from math import pi\n",
    "from nFNC_functions import *\n",
    "from Entrada_de_dados import *\n",
    "from ELUi_functions import *"
   ]
  },
  {
   "cell_type": "code",
   "execution_count": 2,
   "metadata": {},
   "outputs": [],
   "source": [
    "fck, gamma_c, sigma_cd, gamma_conc, f_yk, gamma_s, E_s, f_yd, epsilon_yd, gamma_aco, c, b, h, d, nc, nb, phi, y_s, N_d, M_d, epsilon_c2, epsilon_cu, x_lim, n, tol_J, tol_k, tol_f, i, it_max, y_t, y_b, epsilon_0, k, epsilon_0_it, k_it, epsilon_t, epsilon_b = Entrada_de_dados()\n",
    "m = 5\n",
    "l_e = 20*h"
   ]
  },
  {
   "cell_type": "code",
   "execution_count": 3,
   "metadata": {},
   "outputs": [
    {
     "name": "stdout",
     "output_type": "stream",
     "text": [
      "False 0.16666666666666666 0.03151859892064612\n"
     ]
    }
   ],
   "source": [
    "Rompeu, e, f = Verificacao_DF(fck, gamma_c, sigma_cd, gamma_conc, f_yk, gamma_s, E_s, f_yd, epsilon_yd, gamma_aco, c, b, h, d, nc, nb, phi, y_s, N_d, M_d, epsilon_c2, epsilon_cu, x_lim, n, tol_J, tol_k, tol_f, i, it_max, y_t, y_b, epsilon_0, k, epsilon_0_it, k_it, epsilon_t, epsilon_b, m, l_e)\n",
    "print(Rompeu, e, f)\n"
   ]
  },
  {
   "cell_type": "code",
   "execution_count": 4,
   "metadata": {},
   "outputs": [
    {
     "data": {
      "image/png": "[encoded data removed]",
      "text/plain": [
       "<Figure size 576x432 with 1 Axes>"
      ]
     },
     "metadata": {
      "needs_background": "light"
     },
     "output_type": "display_data"
    }
   ],
   "source": [
    "N_cr, M_cr = Curva_de_projeto_ELUi(fck, gamma_c, sigma_cd, gamma_conc, f_yk, gamma_s, E_s, f_yd, epsilon_yd, gamma_aco, c, b, h, d, nc, nb, phi, y_s, epsilon_c2, epsilon_cu, x_lim, n, tol_J, tol_k, tol_f, i, it_max, y_t, y_b, epsilon_0, k, epsilon_0_it, k_it, epsilon_t, epsilon_b, m, l_e, e)"
   ]
  },
  {
   "cell_type": "code",
   "execution_count": 5,
   "metadata": {},
   "outputs": [
    {
     "name": "stdout",
     "output_type": "stream",
     "text": [
      "N_cr: 634.3429 kN\n",
      "M_cr: 16692.80 kNcm\n"
     ]
    }
   ],
   "source": [
    "print('N_cr: {:.4f} kN'.format(N_cr*1000))\n",
    "print('M_cr: {:.2f} kNcm'.format(M_cr*100000))"
   ]
  },
  {
   "cell_type": "code",
   "execution_count": 6,
   "metadata": {},
   "outputs": [],
   "source": [
    "i = 1\n",
    "e = np.zeros(15)\n",
    "N_cr = np.zeros(15)\n",
    "M_cr = np.zeros(15)\n",
    "\n",
    "while i <= 14:\n",
    "    e[i] = i*h/10\n",
    "    N_cr[i], M_cr[i] = Normal_critica(fck, gamma_c, sigma_cd, gamma_conc, f_yk, gamma_s, E_s, f_yd, epsilon_yd, gamma_aco, c, b, h, d, nc, nb, phi, y_s, epsilon_c2, epsilon_cu, x_lim, n, tol_J, tol_k, tol_f, i, it_max, y_t, y_b, epsilon_0, k, epsilon_0_it, k_it, epsilon_t, epsilon_b, m, l_e, e[i])\n",
    "    i = i + 1"
   ]
  },
  {
   "cell_type": "code",
   "execution_count": 7,
   "metadata": {},
   "outputs": [
    {
     "name": "stdout",
     "output_type": "stream",
     "text": [
      "e(m) | mu\n",
      "0.1  | 0.87830\n",
      "0.2  | 0.68270\n",
      "0.3  | 0.55410\n",
      "0.4  | 0.47120\n",
      "0.5  | 0.40910\n",
      "0.6  | 0.35450\n",
      "0.7  | 0.30390\n",
      "0.8  | 0.26350\n",
      "0.9  | 0.23170\n",
      "1.0  | 0.20630\n",
      "1.1  | 0.18560\n",
      "1.2  | 0.16860\n",
      "1.3  | 0.15430\n",
      "1.4  | 0.14220\n"
     ]
    }
   ],
   "source": [
    "mu = np.zeros(15)\n",
    "print('e(m) | mu')\n",
    "for i in range(len(e)):\n",
    "    if i != 0:\n",
    "        mu[i] = N_cr[i]/(sigma_cd*b*h)\n",
    "        formatted_string = '{:.1f}  | {:.5f}'.format(e[i]/h,mu[i])\n",
    "        print(formatted_string)"
   ]
  },
  {
   "cell_type": "markdown",
   "metadata": {},
   "source": [
    "# Verificação da estabilidade de um pilar"
   ]
  },
  {
   "cell_type": "code",
   "execution_count": 8,
   "metadata": {},
   "outputs": [
    {
     "ename": "NameError",
     "evalue": "name 'F' is not defined",
     "output_type": "error",
     "traceback": [
      "\u001b[0;31m---------------------------------------------------------------------------\u001b[0m",
      "\u001b[0;31mNameError\u001b[0m                                 Traceback (most recent call last)",
      "\u001b[0;32m/tmp/ipykernel_11137/2438127334.py\u001b[0m in \u001b[0;36m<module>\u001b[0;34m\u001b[0m\n\u001b[1;32m      2\u001b[0m \u001b[0mf\u001b[0m \u001b[0;34m=\u001b[0m \u001b[0;36m0\u001b[0m\u001b[0;34m\u001b[0m\u001b[0;34m\u001b[0m\u001b[0m\n\u001b[1;32m      3\u001b[0m \u001b[0mi\u001b[0m\u001b[0;34m=\u001b[0m\u001b[0;36m0\u001b[0m\u001b[0;34m\u001b[0m\u001b[0;34m\u001b[0m\u001b[0m\n\u001b[0;32m----> 4\u001b[0;31m \u001b[0mN\u001b[0m \u001b[0;34m=\u001b[0m \u001b[0mF\u001b[0m\u001b[0;34m/\u001b[0m\u001b[0;34m(\u001b[0m\u001b[0mb\u001b[0m\u001b[0;34m*\u001b[0m\u001b[0mh\u001b[0m\u001b[0;34m)\u001b[0m\u001b[0;34m\u001b[0m\u001b[0;34m\u001b[0m\u001b[0m\n\u001b[0m\u001b[1;32m      5\u001b[0m \u001b[0mM\u001b[0m \u001b[0;34m=\u001b[0m \u001b[0mN\u001b[0m\u001b[0;34m*\u001b[0m\u001b[0;34m(\u001b[0m\u001b[0me\u001b[0m\u001b[0;34m+\u001b[0m\u001b[0mf\u001b[0m\u001b[0;34m)\u001b[0m\u001b[0;34m\u001b[0m\u001b[0;34m\u001b[0m\u001b[0m\n\u001b[1;32m      6\u001b[0m \u001b[0mRompeu\u001b[0m\u001b[0;34m,\u001b[0m \u001b[0mepsilon_0\u001b[0m\u001b[0;34m,\u001b[0m \u001b[0mk\u001b[0m\u001b[0;34m,\u001b[0m \u001b[0mepsilon_0_it\u001b[0m\u001b[0;34m,\u001b[0m \u001b[0mk_it\u001b[0m\u001b[0;34m,\u001b[0m \u001b[0mf_ad\u001b[0m \u001b[0;34m=\u001b[0m \u001b[0mVerificacao\u001b[0m\u001b[0;34m(\u001b[0m\u001b[0mfck\u001b[0m\u001b[0;34m,\u001b[0m \u001b[0mgamma_c\u001b[0m\u001b[0;34m,\u001b[0m \u001b[0msigma_cd\u001b[0m\u001b[0;34m,\u001b[0m \u001b[0mgamma_conc\u001b[0m\u001b[0;34m,\u001b[0m \u001b[0mf_yk\u001b[0m\u001b[0;34m,\u001b[0m \u001b[0mgamma_s\u001b[0m\u001b[0;34m,\u001b[0m \u001b[0mE_s\u001b[0m\u001b[0;34m,\u001b[0m \u001b[0mf_yd\u001b[0m\u001b[0;34m,\u001b[0m \u001b[0mepsilon_yd\u001b[0m\u001b[0;34m,\u001b[0m \u001b[0mgamma_aco\u001b[0m\u001b[0;34m,\u001b[0m \u001b[0mc\u001b[0m\u001b[0;34m,\u001b[0m \u001b[0mb\u001b[0m\u001b[0;34m,\u001b[0m \u001b[0mh\u001b[0m\u001b[0;34m,\u001b[0m \u001b[0md\u001b[0m\u001b[0;34m,\u001b[0m \u001b[0mnc\u001b[0m\u001b[0;34m,\u001b[0m \u001b[0mnb\u001b[0m\u001b[0;34m,\u001b[0m \u001b[0mphi\u001b[0m\u001b[0;34m,\u001b[0m \u001b[0my_s\u001b[0m\u001b[0;34m,\u001b[0m \u001b[0mN\u001b[0m\u001b[0;34m,\u001b[0m \u001b[0mM\u001b[0m\u001b[0;34m,\u001b[0m \u001b[0mepsilon_c2\u001b[0m\u001b[0;34m,\u001b[0m \u001b[0mepsilon_cu\u001b[0m\u001b[0;34m,\u001b[0m \u001b[0mx_lim\u001b[0m\u001b[0;34m,\u001b[0m \u001b[0mn\u001b[0m\u001b[0;34m,\u001b[0m \u001b[0mtol_J\u001b[0m\u001b[0;34m,\u001b[0m \u001b[0mtol_k\u001b[0m\u001b[0;34m,\u001b[0m \u001b[0mtol_f\u001b[0m\u001b[0;34m,\u001b[0m \u001b[0mi\u001b[0m\u001b[0;34m,\u001b[0m \u001b[0mit_max\u001b[0m\u001b[0;34m,\u001b[0m \u001b[0my_t\u001b[0m\u001b[0;34m,\u001b[0m \u001b[0my_b\u001b[0m\u001b[0;34m,\u001b[0m \u001b[0mepsilon_0\u001b[0m\u001b[0;34m,\u001b[0m \u001b[0mk\u001b[0m\u001b[0;34m,\u001b[0m \u001b[0mepsilon_0_it\u001b[0m\u001b[0;34m,\u001b[0m \u001b[0mk_it\u001b[0m\u001b[0;34m,\u001b[0m \u001b[0mepsilon_t\u001b[0m\u001b[0;34m,\u001b[0m \u001b[0mepsilon_b\u001b[0m\u001b[0;34m)\u001b[0m\u001b[0;34m\u001b[0m\u001b[0;34m\u001b[0m\u001b[0m\n",
      "\u001b[0;31mNameError\u001b[0m: name 'F' is not defined"
     ]
    }
   ],
   "source": [
    "# Arbitra-se uma flecha tentativa inicial f = 0\n",
    "f = 0\n",
    "i=0\n",
    "N = F/(b*h)\n",
    "M = N*(e+f)\n",
    "Rompeu, epsilon_0, k, epsilon_0_it, k_it, f_ad = Verificacao(fck, gamma_c, sigma_cd, gamma_conc, f_yk, gamma_s, E_s, f_yd, epsilon_yd, gamma_aco, c, b, h, d, nc, nb, phi, y_s, N, M, epsilon_c2, epsilon_cu, x_lim, n, tol_J, tol_k, tol_f, i, it_max, y_t, y_b, epsilon_0, k, epsilon_0_it, k_it, epsilon_t, epsilon_b)\n",
    "if Rompeu:\n",
    "    print('Failure due to lack of resistant capacity')\n",
    "    return False, e, f\n",
    "while (True):\n",
    "    N = N*np.ones(m)\n",
    "    y = M = _r = np.zeros(m)\n",
    "\n",
    "    for i in range(m):\n",
    "        if (i == 0):\n",
    "            y[i] = 0\n",
    "            _r[i] = k/1000\n",
    "            M[i] = N[i]*(e+f-y[i])\n",
    "        elif (i == 1):\n",
    "            y[i] = _r*dL**2/2\n",
    "            M[i] = N[i]*(e+f-y[i])\n",
    "            Rompeu, epsilon_0, k, epsilon_0_it, k_it, f_ad = Verificacao(fck, gamma_c, sigma_cd, gamma_conc, f_yk, gamma_s, E_s, f_yd, epsilon_yd, gamma_aco, c, b, h, d, nc, nb, phi, y_s, N[i], M[i], epsilon_c2, epsilon_cu, x_lim, n, tol_J, tol_k, tol_f, i, it_max, y_t, y_b, epsilon_0, k, epsilon_0_it, k_it, epsilon_t, epsilon_b)\n",
    "            _r[i] = k/1000\n",
    "        else:\n",
    "            y[i] = _r[i-1]*dL**2+2*y[i-1]-y[i-2]\n",
    "            M[i] = N[i]*(e+f-y[i])\n",
    "            Rompeu, epsilon_0, k, epsilon_0_it, k_it, f_ad = Verificacao(fck, gamma_c, sigma_cd, gamma_conc, f_yk, gamma_s, E_s, f_yd, epsilon_yd, gamma_aco, c, b, h, d, nc, nb, phi, y_s, N[i], M[i], epsilon_c2, epsilon_cu, x_lim, n, tol_J, tol_k, tol_f, i, it_max, y_t, y_b, epsilon_0, k, epsilon_0_it, k_it, epsilon_t, epsilon_b)\n",
    "            _r[i] = k/1000\n",
    "        if Rompeu:\n",
    "            print('Failure due to lack of resistant capacity')\n",
    "            return True, e, f\n",
    "    \n",
    "    if abs(y[m] - f) <= h*tol_DF:\n",
    "        print('ELUi ok!')\n",
    "        return False, e, f\n",
    "    else:\n",
    "        f = y[m]\n",
    "            \n",
    "        \n"
   ]
  },
  {
   "cell_type": "code",
   "execution_count": null,
   "metadata": {},
   "outputs": [],
   "source": []
  }
 ],
 "metadata": {
  "kernelspec": {
   "display_name": "Python 3",
   "language": "python",
   "name": "python3"
  },
  "language_info": {
   "codemirror_mode": {
    "name": "ipython",
    "version": 3
   },
   "file_extension": ".py",
   "mimetype": "text/x-python",
   "name": "python",
   "nbconvert_exporter": "python",
   "pygments_lexer": "ipython3",
   "version": "3.10.12"
  }
 },
 "nbformat": 4,
 "nbformat_minor": 2
}
