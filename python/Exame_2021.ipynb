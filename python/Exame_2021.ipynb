{
 "cells": [
  {
   "cell_type": "markdown",
   "metadata": {},
   "source": [
    "# Exame 2021"
   ]
  },
  {
   "cell_type": "code",
   "execution_count": 1,
   "metadata": {},
   "outputs": [],
   "source": [
    "import numpy as np\n",
    "import matplotlib.pyplot as plt\n",
    "from math import pi\n",
    "from nFNC_functions import *\n",
    "from Entrada_de_dados_2021 import *\n",
    "from ELUi_functions import *"
   ]
  },
  {
   "cell_type": "code",
   "execution_count": 2,
   "metadata": {},
   "outputs": [
    {
     "name": "stdout",
     "output_type": "stream",
     "text": [
      "[ 1.  2.  3.  4.  5.  6.  7.  8.  9. 10. 11. 12. 13. 14. 15. 16. 17. 18.\n",
      " 19. 20. 21. 22. 23. 24. 25.]\n"
     ]
    }
   ],
   "source": [
    "fck, gamma_c, sigma_cd, gamma_conc, f_yk, gamma_s, E_s, f_yd, epsilon_yd, gamma_aco, c, b, h, d, nc, nb, phi, y_s, N_d, M_d, epsilon_c2, epsilon_cu, x_lim, n, tol_J, tol_k, tol_f, i, it_max, y_t, y_b, epsilon_0, k, epsilon_0_it, k_it, epsilon_t, epsilon_b = Entrada_de_dados_2021()\n",
    "m = 10\n",
    "e = M_d/N_d\n",
    "i = np.sqrt((b*h**3/12)/(b*h))\n",
    "# lambda_esbeltez = l_e/i\n",
    "l_e_linspace = h*np.linspace(2,50,25)\n",
    "print(l_e_linspace)"
   ]
  },
  {
   "cell_type": "code",
   "execution_count": 3,
   "metadata": {},
   "outputs": [
    {
     "name": "stdout",
     "output_type": "stream",
     "text": [
      "Falha | l_e | lambda | epislon_0 | k (m) | f (m) \n",
      "---------------------------------------------------\n",
      "False | 1.0 | 6.9282 | 0.194 | 0.962 | 0.0001\n",
      "False | 2.0 | 13.8564 | 0.194 | 0.967 | 0.0005\n",
      "False | 3.0 | 20.7846 | 0.194 | 0.975 | 0.0011\n",
      "False | 4.0 | 27.7128 | 0.193 | 0.986 | 0.0020\n",
      "False | 5.0 | 34.6410 | 0.193 | 1.001 | 0.0031\n",
      "False | 6.0 | 41.5692 | 0.193 | 1.020 | 0.0045\n",
      "False | 7.0 | 48.4974 | 0.192 | 1.044 | 0.0063\n",
      "False | 8.0 | 55.4256 | 0.191 | 1.074 | 0.0084\n",
      "False | 9.0 | 62.3538 | 0.190 | 1.112 | 0.0110\n",
      "False | 10.0 | 69.2820 | 0.188 | 1.159 | 0.0140\n",
      "False | 11.0 | 76.2102 | 0.186 | 1.220 | 0.0177\n",
      "False | 12.0 | 83.1384 | 0.182 | 1.300 | 0.0222\n",
      "False | 13.0 | 90.0666 | 0.176 | 1.409 | 0.0279\n",
      "False | 14.0 | 96.9948 | 0.167 | 1.572 | 0.0354\n",
      "False | 15.0 | 103.9230 | 0.147 | 1.855 | 0.0467\n",
      "False | 16.0 | 110.8513 | 0.048 | 2.961 | 0.0789\n",
      "True | 17.0 | 117.7795 | -106.391 | 634.549 | 0.2281\n",
      "True | 18.0 | 124.7077 | -3.672 | 27.018 | 0.2205\n",
      "True | 19.0 | 131.6359 | -3.918 | 28.547 | 0.2218\n",
      "True | 20.0 | 138.5641 | -300.130 | 1782.045 | 0.2361\n",
      "True | 21.0 | 145.4923 | -4301.112 | 32329.780 | 0.4016\n",
      "True | 22.0 | 152.4205 | -672.552 | 4361.120 | 0.2785\n",
      "True | 23.0 | 159.3487 | -80.176 | 642.412 | 0.3894\n",
      "True | 24.0 | 166.2769 | -174.577 | 1037.878 | 0.2347\n",
      "True | 25.0 | 173.2051 | -802.913 | 5223.496 | 0.2806\n"
     ]
    }
   ],
   "source": [
    "# Curva_viga_DF(fck, gamma_c, sigma_cd, gamma_conc, f_yk, gamma_s, E_s, f_yd, epsilon_yd, gamma_aco, c, b, h, d, nc, nb, phi, y_s, N_d, M_d, epsilon_c2, epsilon_cu, x_lim, n, tol_J, tol_k, tol_f, i, it_max, y_t, y_b, epsilon_0, k, epsilon_0_it, k_it, epsilon_t, epsilon_b, m, l_e)\n",
    "print('Falha | l_e | lambda | epislon_0 | k (m) | f (m) ')\n",
    "print('---------------------------------------------------')\n",
    "for l_e in l_e_linspace:\n",
    "    Rompeu, epsilon_0, k, f = Verificacao_DF(fck, gamma_c, sigma_cd, gamma_conc, f_yk, gamma_s, E_s, f_yd, epsilon_yd, gamma_aco, c, b, h, d, nc, nb, phi, y_s, N_d, M_d, epsilon_c2, epsilon_cu, x_lim, n, tol_J, tol_k, tol_f, i, it_max, y_t, y_b, epsilon_0, k, epsilon_0_it, k_it, epsilon_t, epsilon_b, m, l_e)\n",
    "    formatted_string = '{:} | {:.1f} | {:.4f} | {:.3f} | {:.3f} | {:.4f}'.format(Rompeu, l_e, l_e/(h/np.sqrt(12)), epsilon_0, k, f)\n",
    "    print(formatted_string)"
   ]
  },
  {
   "cell_type": "code",
   "execution_count": 4,
   "metadata": {},
   "outputs": [
    {
     "name": "stdout",
     "output_type": "stream",
     "text": [
      "Diferencas Finitas\n",
      "------------------\n",
      "epsilon_0: 0.50057\n",
      "k: 4.34287\n",
      "f: 0.00824\n"
     ]
    }
   ],
   "source": [
    "l_e = 4\n",
    "Rompeu, epsilon_0_DF, k_DF, f_DF = Verificacao_DF(fck, gamma_c, sigma_cd, gamma_conc, f_yk, gamma_s, E_s, f_yd, epsilon_yd, gamma_aco, c, b, h, d, nc, nb, phi, y_s, N_d, M_d, epsilon_c2, epsilon_cu, x_lim, n, tol_J, tol_k, tol_f, i, it_max, y_t, y_b, epsilon_0, k, epsilon_0_it, k_it, epsilon_t, epsilon_b, m, l_e)\n",
    "print('Diferencas Finitas')\n",
    "print('------------------')\n",
    "print('epsilon_0: {:.5f}'.format(epsilon_0_DF))\n",
    "print('k: {:.5f}'.format(k_DF))\n",
    "print('f: {:.5f}'.format(f_DF))\n"
   ]
  },
  {
   "cell_type": "code",
   "execution_count": 25,
   "metadata": {},
   "outputs": [
    {
     "data": {
      "image/png": "[encoded data removed]",
      "text/plain": [
       "<Figure size 576x432 with 1 Axes>"
      ]
     },
     "metadata": {
      "needs_background": "light"
     },
     "output_type": "display_data"
    }
   ],
   "source": [
    "l_e = 8.1*2\n",
    "_,_,_,_,_,_ = Pilar_padrao_M_i(fck, gamma_c, sigma_cd, gamma_conc, f_yk, gamma_s, E_s, f_yd, epsilon_yd, gamma_aco, c, b, h, d, nc, nb, phi, y_s, epsilon_c2, epsilon_cu, x_lim, n, tol_J, tol_k, tol_f, i, it_max, y_t, y_b, epsilon_0, k, epsilon_0_it, k_it, epsilon_t, epsilon_b, m, l_e, N_d, e)\n"
   ]
  },
  {
   "cell_type": "code",
   "execution_count": 26,
   "metadata": {},
   "outputs": [],
   "source": [
    "sol = Pilar_padrao_sol(fck, gamma_c, sigma_cd, gamma_conc, f_yk, gamma_s, E_s, f_yd, epsilon_yd, gamma_aco, c, b, h, d, nc, nb, phi, y_s, epsilon_c2, epsilon_cu, x_lim, n, tol_J, tol_k, tol_f, i, it_max, y_t, y_b, epsilon_0, k, epsilon_0_it, k_it, epsilon_t, epsilon_b, m, l_e, N_d, e)"
   ]
  },
  {
   "cell_type": "code",
   "execution_count": 27,
   "metadata": {},
   "outputs": [
    {
     "name": "stdout",
     "output_type": "stream",
     "text": [
      "M (kNm) | _r (m) | f (cm) | epsilon_0 | k (m)\n",
      "----------------------------------------------\n",
      "78.9286 | 0.0022 | 5.8208 | 0.12050   | 2.189\n",
      "79.1259 | 0.0022 | 5.8547 | 0.11940   | 2.202\n",
      "79.3232 | 0.0022 | 5.8888 | 0.11830   | 2.215\n",
      "79.5205 | 0.0022 | 5.9231 | 0.11719   | 2.227\n",
      "79.7179 | 0.0022 | 5.9575 | 0.11607   | 2.240\n",
      "79.9152 | 0.0023 | 5.9921 | 0.11494   | 2.253\n",
      "80.1125 | 0.0023 | 6.0269 | 0.11380   | 2.267\n",
      "80.3098 | 0.0023 | 6.0619 | 0.11264   | 2.280\n",
      "80.5071 | 0.0023 | 6.0971 | 0.11148   | 2.293\n",
      "80.7045 | 0.0023 | 6.1324 | 0.11031   | 2.306\n",
      "80.9018 | 0.0023 | 6.1680 | 0.10912   | 2.320\n",
      "81.0991 | 0.0023 | 6.2037 | 0.10793   | 2.333\n",
      "81.2964 | 0.0023 | 6.2395 | 0.10673   | 2.347\n",
      "81.4938 | 0.0024 | 6.2756 | 0.10551   | 2.360\n",
      "81.6911 | 0.0024 | 6.3118 | 0.10429   | 2.374\n",
      "81.8884 | 0.0024 | 6.3482 | 0.10305   | 2.387\n",
      "82.0857 | 0.0024 | 6.3848 | 0.10181   | 2.401\n",
      "82.2830 | 0.0024 | 6.4216 | 0.10055   | 2.415\n",
      "82.4804 | 0.0024 | 6.4585 | 0.09928   | 2.429\n",
      "88.0054 | 0.0028 | 7.5639 | 0.05952   | 2.845\n",
      "88.2027 | 0.0029 | 7.6058 | 0.05795   | 2.860\n",
      "88.4000 | 0.0029 | 7.6479 | 0.05637   | 2.876\n",
      "88.5973 | 0.0029 | 7.6902 | 0.05477   | 2.892\n",
      "88.7946 | 0.0029 | 7.7327 | 0.05317   | 2.908\n",
      "88.9920 | 0.0029 | 7.7753 | 0.05155   | 2.924\n",
      "89.1893 | 0.0029 | 7.8181 | 0.04993   | 2.940\n",
      "89.3866 | 0.0030 | 7.8610 | 0.04829   | 2.956\n",
      "89.5839 | 0.0030 | 7.9041 | 0.04664   | 2.973\n",
      "89.7813 | 0.0030 | 7.9474 | 0.04499   | 2.989\n",
      "89.9786 | 0.0030 | 7.9908 | 0.04332   | 3.005\n",
      "90.1759 | 0.0030 | 8.0344 | 0.04164   | 3.022\n",
      "90.3732 | 0.0030 | 8.0782 | 0.03996   | 3.038\n",
      "90.5705 | 0.0031 | 8.1221 | 0.03826   | 3.054\n",
      "90.7679 | 0.0031 | 8.1662 | 0.03655   | 3.071\n",
      "90.9652 | 0.0031 | 8.2104 | 0.03483   | 3.088\n",
      "91.1625 | 0.0031 | 8.2548 | 0.03310   | 3.104\n",
      "91.3598 | 0.0031 | 8.2994 | 0.03136   | 3.121\n",
      "91.5571 | 0.0031 | 8.3441 | 0.02961   | 3.138\n",
      "91.7545 | 0.0032 | 8.3889 | 0.02785   | 3.155\n"
     ]
    }
   ],
   "source": [
    "if sol != None:\n",
    "    print('M (kNm) | _r (m) | f (cm) | epsilon_0 | k (m)')\n",
    "    print('----------------------------------------------')\n",
    "    for i in range(len(sol)):\n",
    "        print('{:.4f} | {:.4f} | {:.4f} | {:.5f}   | {:.3f}'.format(sol[i][0]*1e3,sol[i][1],sol[i][2]*1e2,sol[i][3],sol[i][4]))\n",
    "else:\n",
    "    print('Nao foi possivel equilibrar o pilar')"
   ]
  },
  {
   "cell_type": "code",
   "execution_count": 33,
   "metadata": {},
   "outputs": [
    {
     "name": "stdout",
     "output_type": "stream",
     "text": [
      "Compressao uniforme\n",
      "-------------------\n",
      "N_cr_d: 663.1468 kN\n",
      "N_cr_k: 473.6763 kN\n",
      "epsilon_0: 0.25901\n",
      "k: 0.00000\n"
     ]
    }
   ],
   "source": [
    "l_e = 28\n",
    "N_cr_3, epsilon_0_3, k_3 = Compressao_uniforme(fck, gamma_c, sigma_cd, gamma_conc, f_yk, gamma_s, E_s, f_yd, epsilon_yd, gamma_aco, c, b, h, d, nc, nb, phi, y_s, N_d, epsilon_c2, epsilon_cu, x_lim, n, tol_J, tol_k, tol_f, i, it_max, y_t, y_b, epsilon_0, k, epsilon_0_it, k_it, epsilon_t, epsilon_b, m, l_e)\n",
    "print('Compressao uniforme')\n",
    "print('-------------------')\n",
    "print('N_cr_d: {:.4f} kN'.format(N_cr_3*1e3))\n",
    "print('N_cr_k: {:.4f} kN'.format(N_cr_3*1e3/1.4))\n",
    "print('epsilon_0: {:.5f}'.format(epsilon_0_3))\n",
    "print('k: {:.5f}'.format(k_3))"
   ]
  },
  {
   "cell_type": "code",
   "execution_count": 34,
   "metadata": {},
   "outputs": [
    {
     "data": {
      "image/png": "[encoded data removed]",
      "text/plain": [
       "<Figure size 576x432 with 1 Axes>"
      ]
     },
     "metadata": {
      "needs_background": "light"
     },
     "output_type": "display_data"
    }
   ],
   "source": [
    "e_1 = M_d/N_d\n",
    "N_1, M_1, f_array_1, epsilon_0_1, k_1= Curva_de_projeto_ELUi(fck, gamma_c, sigma_cd, gamma_conc, f_yk, gamma_s, E_s, f_yd, epsilon_yd, gamma_aco, c, b, h, d, nc, nb, phi, y_s, epsilon_c2, epsilon_cu, x_lim, n, tol_J, tol_k, tol_f, i, it_max, y_t, y_b, epsilon_0, k, epsilon_0_it, k_it, epsilon_t, epsilon_b, m, l_e, e_1)\n",
    "nu_1 = np.array(N_1)/(sigma_cd*b*h)\n",
    "mu_1 = np.array(M_1)/(sigma_cd*b*h**2)"
   ]
  },
  {
   "cell_type": "code",
   "execution_count": 35,
   "metadata": {},
   "outputs": [
    {
     "name": "stdout",
     "output_type": "stream",
     "text": [
      "N_cr: 170.4857 kN\n",
      "M_cr: 3097.82 kNcm\n",
      "f: 8.17055 cm\n",
      "epsilon_0: 0.01194\n",
      "k: 1.00499 m\n"
     ]
    }
   ],
   "source": [
    "N_cr_1 = N_1[-1]\n",
    "M_cr_1 = M_1[-1]\n",
    "f_cr_1 = f_array_1[-1]\n",
    "epsilon_0_cr_1 = epsilon_0_1[-1]\n",
    "k_cr_1 = k_1[-1]\n",
    "print('N_cr: {:.4f} kN'.format(N_cr_1*1e3))\n",
    "print('M_cr: {:.2f} kNcm'.format(M_cr_1*1e5))\n",
    "print('f: {:.5f} cm'.format(f_cr_1*100))\n",
    "print('epsilon_0: {:.5f}'.format(epsilon_0_cr_1))\n",
    "print('k: {:.5f} m'.format(k_cr_1))"
   ]
  },
  {
   "cell_type": "code",
   "execution_count": 13,
   "metadata": {},
   "outputs": [],
   "source": [
    "N_r_1, M_r_1 = N_r_M_r(epsilon_c2, epsilon_cu, sigma_cd, n, b, f_yd, epsilon_yd, h, y_t, y_b, y_s, phi, nb, tol_k)\n",
    "nu_r_1 = np.array(N_r_1)/(sigma_cd*b*h)\n",
    "mu_r_1 = np.array(M_r_1)/(sigma_cd*b*h**2)"
   ]
  },
  {
   "cell_type": "code",
   "execution_count": 14,
   "metadata": {},
   "outputs": [
    {
     "data": {
      "image/png": "[encoded data removed]",
      "text/plain": [
       "<Figure size 576x432 with 1 Axes>"
      ]
     },
     "metadata": {
      "needs_background": "light"
     },
     "output_type": "display_data"
    }
   ],
   "source": [
    "plt.figure(figsize=(8, 6))\n",
    "plt.plot(nu_1, mu_1, '-b', linewidth=2)\n",
    "plt.plot(nu_r_1, mu_r_1, '-r', linewidth=2)\n",
    "plt.xlabel('$ \\\\nu $', fontsize=12)\n",
    "plt.ylabel('$ \\mu $', fontsize=12)\n",
    "plt.xlim(min(nu_1), max(nu_r_1) * 1.1)\n",
    "plt.ylim(min(mu_1), max(mu_r_1) * 1.1)\n",
    "plt.title('Trajetoria de equilibrio', fontsize=12)\n",
    "# plt.gca().set_aspect('equal', adjustable='box')\n",
    "plt.grid(True)\n",
    "plt.show()"
   ]
  },
  {
   "cell_type": "markdown",
   "metadata": {},
   "source": [
    "----------------------------------------\n",
    "# Não usa nada daqui para baixo\n",
    "----------------------------------------"
   ]
  },
  {
   "cell_type": "code",
   "execution_count": null,
   "metadata": {},
   "outputs": [],
   "source": [
    "i = 1\n",
    "e_2 = np.zeros(15)\n",
    "N_cr_2 = np.zeros(15)\n",
    "M_cr_2 = np.zeros(15)\n",
    "\n",
    "# while i <= 14:\n",
    "#     e_2[i] = i*h/10\n",
    "#     N_cr_2[i], M_cr_2[i] = Normal_critica(fck, gamma_c, sigma_cd, gamma_conc, f_yk, gamma_s, E_s, f_yd, epsilon_yd, gamma_aco, c, b, h, d, nc, nb, phi, y_s, epsilon_c2, epsilon_cu, x_lim, n, tol_J, tol_k, tol_f, i, it_max, y_t, y_b, epsilon_0, k, epsilon_0_it, k_it, epsilon_t, epsilon_b, m, l_e, e_2[i])\n",
    "#     # M_cr_2[i] = N_cr_2[i]*e_2[i]\n",
    "#     i = i + 1"
   ]
  },
  {
   "cell_type": "code",
   "execution_count": null,
   "metadata": {},
   "outputs": [],
   "source": [
    "N_cr_3 = Compressao_uniforme(fck, gamma_c, sigma_cd, gamma_conc, f_yk, gamma_s, E_s, f_yd, epsilon_yd, gamma_aco, c, b, h, d, nc, nb, phi, y_s, N_d, epsilon_c2, epsilon_cu, x_lim, n, tol_J, tol_k, tol_f, i, it_max, y_t, y_b, epsilon_0, k, epsilon_0_it, k_it, epsilon_t, epsilon_b, m, l_e)\n",
    "print('Compressao uniforme')\n",
    "print('-------------------')\n",
    "print('N_cr: {:.4f} kN'.format(N_cr_3*1e3))"
   ]
  },
  {
   "cell_type": "code",
   "execution_count": null,
   "metadata": {},
   "outputs": [],
   "source": [
    "nu_2 = np.zeros(15)\n",
    "mu_2 = np.zeros(15)\n",
    "print('e/h | nu_cr   | mu_cr')\n",
    "print('-----------------------')\n",
    "for i in range(len(e_2)):\n",
    "    nu_2[i] = N_cr_2[i]/(sigma_cd*b*h)\n",
    "    # mu_2[i] = nu_2[i]*e_2[i]/h\n",
    "    mu_2[i] = M_cr_2[i]/(sigma_cd*b*h**2)\n",
    "    formatted_string = '{:.1f} | {:.5f} | {:.5f}'.format(e_2[i]/h,nu_2[i], mu_2[i])\n",
    "    print(formatted_string)"
   ]
  },
  {
   "cell_type": "code",
   "execution_count": null,
   "metadata": {},
   "outputs": [],
   "source": [
    "plt.figure(figsize=(8, 6))\n",
    "plt.plot(e_2/h, N_cr_2*1e3, '-b', linewidth=2)\n",
    "plt.xlabel('$ e/h $', fontsize=12)\n",
    "plt.ylabel('$ N_{cr} \\; (kN)$', fontsize=12)\n",
    "plt.xlim(0, max(e_2/h) * 1.1)\n",
    "plt.ylim(0, max(N_cr_2*1e3) * 1.1)\n",
    "plt.title('Curva $e/h \\\\times N_{cr}$', fontsize=12)\n",
    "# plt.gca().set_aspect('equal', adjustable='box')\n",
    "plt.grid(True)\n",
    "plt.show()"
   ]
  },
  {
   "cell_type": "code",
   "execution_count": null,
   "metadata": {},
   "outputs": [],
   "source": [
    "plt.figure(figsize=(8, 6))\n",
    "plt.plot(e_2/h, nu_2, '-', color = 'purple', linewidth=2)\n",
    "plt.xlabel('$ e/h $', fontsize=12)\n",
    "plt.ylabel('$ \\\\nu_{cr}$', fontsize=12)\n",
    "plt.xlim(0, max(e_2/h) * 1.1)\n",
    "plt.ylim(0, max(nu_2) * 1.1)\n",
    "plt.title('Sensibildiade a imperfeicoes', fontsize=12)\n",
    "# plt.gca().set_aspect('equal', adjustable='box')\n",
    "plt.grid(True)\n",
    "plt.show()"
   ]
  },
  {
   "cell_type": "code",
   "execution_count": null,
   "metadata": {},
   "outputs": [],
   "source": [
    "index = (np.where(np.sqrt((N_r_1)**2) ==  min(abs(N_r_1))))[0][0]\n",
    "N_cr_2 = np.append(N_cr_2, N_r_1[index])\n",
    "M_cr_2 = np.append(M_cr_2, M_r_1[index])\n",
    "nu_2 = np.append(nu_2, N_r_1[index]/(sigma_cd*b*h))\n",
    "mu_2 = np.append(mu_2, M_r_1[index]/(sigma_cd*b*h**2))"
   ]
  },
  {
   "cell_type": "code",
   "execution_count": null,
   "metadata": {},
   "outputs": [],
   "source": [
    "plt.figure(figsize=(8, 6))\n",
    "plt.plot(nu_2,mu_2, '-', color = 'purple', label = 'ELUi',linewidth=1)\n",
    "plt.plot(nu_r_1,mu_r_1, '-', color = 'blue', label = 'ELU',linewidth=1)\n",
    "plt.xlabel('$  \\\\nu$', fontsize=12)\n",
    "plt.ylabel('$ \\mu$', fontsize=12)\n",
    "plt.xlim(0, max(nu_r_1) * 1.1)\n",
    "plt.ylim(0, max(mu_r_1) * 1.1)\n",
    "plt.title('Estados Limites Ultimos Ruina $\\\\times$ Instabilidade', fontsize=12)\n",
    "# plt.gca().set_aspect('equal', adjustable='box')\n",
    "plt.grid(True)\n",
    "plt.legend()\n",
    "plt.show()"
   ]
  },
  {
   "cell_type": "code",
   "execution_count": null,
   "metadata": {},
   "outputs": [],
   "source": [
    "plt.figure(figsize=(8, 6))\n",
    "plt.plot(N_cr_2*1e3,M_cr_2*1e5, '-', color = 'green', label = 'ELUi',linewidth=1)\n",
    "plt.plot(N_1*1e3,M_1*1e5, '-', color = 'purple', label = '$T_{eq}$',linewidth=1)\n",
    "plt.plot(N_r_1*1e3,M_r_1*1e5, '-', color = 'orange', label = 'ELU',linewidth=1)\n",
    "plt.plot(N_1*1e3,N_1*e_1*1e5, '-', color = 'red', label = '$M_1$',linewidth=1)\n",
    "plt.xlabel('$ N \\; (kN)$', fontsize=12)\n",
    "plt.ylabel('$ M  \\; (kNcm)$', fontsize=12)\n",
    "plt.xlim(0, max(N_r_1*1e3) * 1.1)\n",
    "plt.ylim(0, max(M_r_1*1e5) * 1.1)\n",
    "plt.title('Curvas ELUi, ELU, Teq e de momentos de 1a ordem', fontsize=12)\n",
    "# plt.gca().set_aspect('equal', adjustable='box')\n",
    "plt.grid(True)\n",
    "plt.legend()\n",
    "plt.show()"
   ]
  }
 ],
 "metadata": {
  "kernelspec": {
   "display_name": "Python 3",
   "language": "python",
   "name": "python3"
  },
  "language_info": {
   "codemirror_mode": {
    "name": "ipython",
    "version": 3
   },
   "file_extension": ".py",
   "mimetype": "text/x-python",
   "name": "python",
   "nbconvert_exporter": "python",
   "pygments_lexer": "ipython3",
   "version": "3.10.12"
  }
 },
 "nbformat": 4,
 "nbformat_minor": 2
}
