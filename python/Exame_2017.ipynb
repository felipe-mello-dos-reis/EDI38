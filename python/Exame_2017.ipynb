{
 "cells": [
  {
   "cell_type": "markdown",
   "metadata": {},
   "source": [
    "# Exame 2017"
   ]
  },
  {
   "cell_type": "code",
   "execution_count": 1,
   "metadata": {},
   "outputs": [],
   "source": [
    "import numpy as np\n",
    "import matplotlib.pyplot as plt\n",
    "from math import pi\n",
    "from nFNC_functions import *\n",
    "from Entrada_de_dados_2017 import *\n",
    "from ELUi_functions import *"
   ]
  },
  {
   "cell_type": "code",
   "execution_count": 2,
   "metadata": {},
   "outputs": [
    {
     "name": "stdout",
     "output_type": "stream",
     "text": [
      "[ 0.4  0.8  1.2  1.6  2.   2.4  2.8  3.2  3.6  4.   4.4  4.8  5.2  5.6\n",
      "  6.   6.4  6.8  7.2  7.6  8.   8.4  8.8  9.2  9.6 10. ]\n"
     ]
    }
   ],
   "source": [
    "fck, gamma_c, sigma_cd, gamma_conc, f_yk, gamma_s, E_s, f_yd, epsilon_yd, gamma_aco, c, b, h, d, nc, nb, phi, y_s, N_d, M_d, epsilon_c2, epsilon_cu, x_lim, n, tol_J, tol_k, tol_f, i, it_max, y_t, y_b, epsilon_0, k, epsilon_0_it, k_it, epsilon_t, epsilon_b = Entrada_de_dados_2017()\n",
    "m = 10\n",
    "e = M_d/N_d\n",
    "i = np.sqrt((b*h**3/12)/(b*h))\n",
    "# lambda_esbeltez = l_e/i\n",
    "l_e_linspace = h*np.linspace(2,50,25)\n",
    "print(l_e_linspace)"
   ]
  },
  {
   "cell_type": "code",
   "execution_count": 3,
   "metadata": {},
   "outputs": [
    {
     "name": "stdout",
     "output_type": "stream",
     "text": [
      "Falha | l_e | lambda | epislon_0 | k (m) | f (m) \n",
      "---------------------------------------------------\n",
      "False | 0.4 | 6.9282 | 0.497 | 3.054 | 0.0001\n",
      "False | 0.8 | 13.8564 | 0.497 | 3.083 | 0.0002\n",
      "False | 1.2 | 20.7846 | 0.497 | 3.132 | 0.0006\n",
      "False | 1.6 | 27.7128 | 0.497 | 3.204 | 0.0010\n",
      "False | 2.0 | 34.6410 | 0.497 | 3.300 | 0.0016\n",
      "False | 2.4 | 41.5692 | 0.498 | 3.425 | 0.0024\n",
      "False | 2.8 | 48.4974 | 0.498 | 3.583 | 0.0034\n",
      "False | 3.2 | 55.4256 | 0.499 | 3.781 | 0.0047\n",
      "False | 3.6 | 62.3538 | 0.500 | 4.029 | 0.0063\n",
      "False | 4.0 | 69.2820 | 0.501 | 4.343 | 0.0082\n",
      "False | 4.4 | 76.2102 | 0.502 | 4.743 | 0.0108\n",
      "False | 4.8 | 83.1384 | 0.504 | 5.271 | 0.0141\n",
      "False | 5.2 | 90.0666 | 0.503 | 6.164 | 0.0188\n",
      "True | 5.6 | 96.9948 | -0.586 | 47.432 | 0.0665\n",
      "True | 6.0 | 103.9230 | -41.851 | 1559.671 | 0.0752\n",
      "True | 6.4 | 110.8513 | -0.258 | 35.772 | 0.0648\n",
      "True | 6.8 | 117.7795 | -551.538 | 23076.307 | 0.0780\n",
      "True | 7.2 | 124.7077 | -53.843 | 2166.074 | 0.0731\n",
      "True | 7.6 | 131.6359 | -9498.597 | 393202.170 | 0.1022\n",
      "True | 8.0 | 138.5641 | -27.226 | 1087.337 | 0.0708\n",
      "True | 8.4 | 145.4923 | -276.038 | 10084.699 | 0.0860\n",
      "True | 8.8 | 152.4205 | -12099.027 | 506097.970 | 0.1035\n",
      "True | 9.2 | 159.3487 | -22.886 | 1221.946 | 0.1232\n",
      "True | 9.6 | 166.2769 | -0.017 | 27.891 | 0.0618\n",
      "True | 10.0 | 173.2051 | -0.925 | 60.570 | 0.0677\n"
     ]
    }
   ],
   "source": [
    "# Curva_viga_DF(fck, gamma_c, sigma_cd, gamma_conc, f_yk, gamma_s, E_s, f_yd, epsilon_yd, gamma_aco, c, b, h, d, nc, nb, phi, y_s, N_d, M_d, epsilon_c2, epsilon_cu, x_lim, n, tol_J, tol_k, tol_f, i, it_max, y_t, y_b, epsilon_0, k, epsilon_0_it, k_it, epsilon_t, epsilon_b, m, l_e)\n",
    "print('Falha | l_e | lambda | epislon_0 | k (m) | f (m) ')\n",
    "print('---------------------------------------------------')\n",
    "for l_e in l_e_linspace:\n",
    "    Rompeu, epsilon_0, k, f = Verificacao_DF(fck, gamma_c, sigma_cd, gamma_conc, f_yk, gamma_s, E_s, f_yd, epsilon_yd, gamma_aco, c, b, h, d, nc, nb, phi, y_s, N_d, M_d, epsilon_c2, epsilon_cu, x_lim, n, tol_J, tol_k, tol_f, i, it_max, y_t, y_b, epsilon_0, k, epsilon_0_it, k_it, epsilon_t, epsilon_b, m, l_e)\n",
    "    formatted_string = '{:} | {:.1f} | {:.4f} | {:.3f} | {:.3f} | {:.4f}'.format(Rompeu, l_e, l_e/(h/np.sqrt(12)), epsilon_0, k, f)\n",
    "    print(formatted_string)"
   ]
  },
  {
   "cell_type": "code",
   "execution_count": 4,
   "metadata": {},
   "outputs": [
    {
     "name": "stdout",
     "output_type": "stream",
     "text": [
      "Diferencas Finitas\n",
      "------------------\n",
      "epsilon_0: 0.50057\n",
      "k: 4.34287\n",
      "f: 0.00824\n"
     ]
    }
   ],
   "source": [
    "l_e = 4\n",
    "Rompeu, epsilon_0_DF, k_DF, f_DF = Verificacao_DF(fck, gamma_c, sigma_cd, gamma_conc, f_yk, gamma_s, E_s, f_yd, epsilon_yd, gamma_aco, c, b, h, d, nc, nb, phi, y_s, N_d, M_d, epsilon_c2, epsilon_cu, x_lim, n, tol_J, tol_k, tol_f, i, it_max, y_t, y_b, epsilon_0, k, epsilon_0_it, k_it, epsilon_t, epsilon_b, m, l_e)\n",
    "print('Diferencas Finitas')\n",
    "print('------------------')\n",
    "print('epsilon_0: {:.5f}'.format(epsilon_0_DF))\n",
    "print('k: {:.5f}'.format(k_DF))\n",
    "print('f: {:.5f}'.format(f_DF))\n"
   ]
  },
  {
   "cell_type": "code",
   "execution_count": 5,
   "metadata": {},
   "outputs": [
    {
     "data": {
      "image/png": "[encoded data removed]",
      "text/plain": [
       "<Figure size 576x432 with 1 Axes>"
      ]
     },
     "metadata": {
      "needs_background": "light"
     },
     "output_type": "display_data"
    }
   ],
   "source": [
    "_,_,_,_,_,_ = Pilar_padrao_M_i(fck, gamma_c, sigma_cd, gamma_conc, f_yk, gamma_s, E_s, f_yd, epsilon_yd, gamma_aco, c, b, h, d, nc, nb, phi, y_s, epsilon_c2, epsilon_cu, x_lim, n, tol_J, tol_k, tol_f, i, it_max, y_t, y_b, epsilon_0, k, epsilon_0_it, k_it, epsilon_t, epsilon_b, m, l_e, N_d, e)\n"
   ]
  },
  {
   "cell_type": "code",
   "execution_count": 6,
   "metadata": {},
   "outputs": [],
   "source": [
    "sol = Pilar_padrao_sol(fck, gamma_c, sigma_cd, gamma_conc, f_yk, gamma_s, E_s, f_yd, epsilon_yd, gamma_aco, c, b, h, d, nc, nb, phi, y_s, epsilon_c2, epsilon_cu, x_lim, n, tol_J, tol_k, tol_f, i, it_max, y_t, y_b, epsilon_0, k, epsilon_0_it, k_it, epsilon_t, epsilon_b, m, l_e, N_d, e)"
   ]
  },
  {
   "cell_type": "code",
   "execution_count": 7,
   "metadata": {},
   "outputs": [
    {
     "name": "stdout",
     "output_type": "stream",
     "text": [
      "M (kNm) | _r (m) | f (cm) | epsilon_0 | k (m)\n",
      "----------------------------------------------\n",
      "13.3863 | 0.0041 | 0.6614 | 0.49969   | 4.080\n",
      "13.4179 | 0.0041 | 0.6629 | 0.49972   | 4.089\n",
      "13.4494 | 0.0041 | 0.6645 | 0.49975   | 4.099\n"
     ]
    }
   ],
   "source": [
    "if sol != None:\n",
    "    print('M (kNm) | _r (m) | f (cm) | epsilon_0 | k (m)')\n",
    "    print('----------------------------------------------')\n",
    "    for i in range(len(sol)):\n",
    "        print('{:.4f} | {:.4f} | {:.4f} | {:.5f}   | {:.3f}'.format(sol[i][0]*1e3,sol[i][1],sol[i][2]*1e2,sol[i][3],sol[i][4]))\n",
    "else:\n",
    "    print('Nao foi possivel equilibrar o pilar')"
   ]
  },
  {
   "cell_type": "code",
   "execution_count": 8,
   "metadata": {},
   "outputs": [
    {
     "name": "stdout",
     "output_type": "stream",
     "text": [
      "Compressao uniforme\n",
      "-------------------\n",
      "N_cr_d: 1412.5271 kN\n",
      "N_cr_k: 1008.9479 kN\n",
      "epsilon_0: 1.54967\n",
      "k: 0.00000\n"
     ]
    }
   ],
   "source": [
    "N_cr_3, epsilon_0_3, k_3 = Compressao_uniforme(fck, gamma_c, sigma_cd, gamma_conc, f_yk, gamma_s, E_s, f_yd, epsilon_yd, gamma_aco, c, b, h, d, nc, nb, phi, y_s, N_d, epsilon_c2, epsilon_cu, x_lim, n, tol_J, tol_k, tol_f, i, it_max, y_t, y_b, epsilon_0, k, epsilon_0_it, k_it, epsilon_t, epsilon_b, m, l_e)\n",
    "print('Compressao uniforme')\n",
    "print('-------------------')\n",
    "print('N_cr_d: {:.4f} kN'.format(N_cr_3*1e3))\n",
    "print('N_cr_k: {:.4f} kN'.format(N_cr_3*1e3/1.4))\n",
    "print('epsilon_0: {:.5f}'.format(epsilon_0_3))\n",
    "print('k: {:.5f}'.format(k_3))"
   ]
  },
  {
   "cell_type": "code",
   "execution_count": 9,
   "metadata": {},
   "outputs": [
    {
     "data": {
      "image/png": "[encoded data removed]",
      "text/plain": [
       "<Figure size 576x432 with 1 Axes>"
      ]
     },
     "metadata": {
      "needs_background": "light"
     },
     "output_type": "display_data"
    }
   ],
   "source": [
    "e_1 = 2/103\n",
    "N_1, M_1, f_array_1, epsilon_0_1, k_1= Curva_de_projeto_ELUi(fck, gamma_c, sigma_cd, gamma_conc, f_yk, gamma_s, E_s, f_yd, epsilon_yd, gamma_aco, c, b, h, d, nc, nb, phi, y_s, epsilon_c2, epsilon_cu, x_lim, n, tol_J, tol_k, tol_f, i, it_max, y_t, y_b, epsilon_0, k, epsilon_0_it, k_it, epsilon_t, epsilon_b, m, l_e, e_1)\n",
    "nu_1 = np.array(N_1)/(sigma_cd*b*h)\n",
    "mu_1 = np.array(M_1)/(sigma_cd*b*h**2)"
   ]
  },
  {
   "cell_type": "code",
   "execution_count": 12,
   "metadata": {},
   "outputs": [
    {
     "name": "stdout",
     "output_type": "stream",
     "text": [
      "N_cr: 838.5371 kN\n",
      "M_cr: 3827.41 kNcm\n",
      "f: 2.62264 cm\n",
      "epsilon_0: 0.87253\n",
      "k: 15.64862 m\n"
     ]
    }
   ],
   "source": [
    "N_cr_1 = N_1[-1]\n",
    "M_cr_1 = M_1[-1]\n",
    "f_cr_1 = f_array_1[-1]\n",
    "epsilon_0_cr_1 = epsilon_0_1[-1]\n",
    "k_cr_1 = k_1[-1]\n",
    "print('N_cr: {:.4f} kN'.format(N_cr_1*1e3))\n",
    "print('M_cr: {:.2f} kNcm'.format(M_cr_1*1e5))\n",
    "print('f: {:.5f} cm'.format(f_cr_1*100))\n",
    "print('epsilon_0: {:.5f}'.format(epsilon_0_cr_1))\n",
    "print('k: {:.5f} m'.format(k_cr_1))"
   ]
  },
  {
   "cell_type": "code",
   "execution_count": 13,
   "metadata": {},
   "outputs": [],
   "source": [
    "N_r_1, M_r_1 = N_r_M_r(epsilon_c2, epsilon_cu, sigma_cd, n, b, f_yd, epsilon_yd, h, y_t, y_b, y_s, phi, nb, tol_k)\n",
    "nu_r_1 = np.array(N_r_1)/(sigma_cd*b*h)\n",
    "mu_r_1 = np.array(M_r_1)/(sigma_cd*b*h**2)"
   ]
  },
  {
   "cell_type": "code",
   "execution_count": 14,
   "metadata": {},
   "outputs": [
    {
     "data": {
      "image/png": "[encoded data removed]",
      "text/plain": [
       "<Figure size 576x432 with 1 Axes>"
      ]
     },
     "metadata": {
      "needs_background": "light"
     },
     "output_type": "display_data"
    }
   ],
   "source": [
    "plt.figure(figsize=(8, 6))\n",
    "plt.plot(nu_1, mu_1, '-b', linewidth=2)\n",
    "plt.plot(nu_r_1, mu_r_1, '-r', linewidth=2)\n",
    "plt.xlabel('$ \\\\nu $', fontsize=12)\n",
    "plt.ylabel('$ \\mu $', fontsize=12)\n",
    "plt.xlim(min(nu_1), max(nu_r_1) * 1.1)\n",
    "plt.ylim(min(mu_1), max(mu_r_1) * 1.1)\n",
    "plt.title('Trajetoria de equilibrio', fontsize=12)\n",
    "# plt.gca().set_aspect('equal', adjustable='box')\n",
    "plt.grid(True)\n",
    "plt.show()"
   ]
  },
  {
   "cell_type": "markdown",
   "metadata": {},
   "source": [
    "----------------------------------------\n",
    "# Não usa nada daqui para baixo\n",
    "----------------------------------------"
   ]
  },
  {
   "cell_type": "code",
   "execution_count": null,
   "metadata": {},
   "outputs": [],
   "source": [
    "i = 1\n",
    "e_2 = np.zeros(15)\n",
    "N_cr_2 = np.zeros(15)\n",
    "M_cr_2 = np.zeros(15)\n",
    "\n",
    "# while i <= 14:\n",
    "#     e_2[i] = i*h/10\n",
    "#     N_cr_2[i], M_cr_2[i] = Normal_critica(fck, gamma_c, sigma_cd, gamma_conc, f_yk, gamma_s, E_s, f_yd, epsilon_yd, gamma_aco, c, b, h, d, nc, nb, phi, y_s, epsilon_c2, epsilon_cu, x_lim, n, tol_J, tol_k, tol_f, i, it_max, y_t, y_b, epsilon_0, k, epsilon_0_it, k_it, epsilon_t, epsilon_b, m, l_e, e_2[i])\n",
    "#     # M_cr_2[i] = N_cr_2[i]*e_2[i]\n",
    "#     i = i + 1"
   ]
  },
  {
   "cell_type": "code",
   "execution_count": null,
   "metadata": {},
   "outputs": [],
   "source": [
    "N_cr_3 = Compressao_uniforme(fck, gamma_c, sigma_cd, gamma_conc, f_yk, gamma_s, E_s, f_yd, epsilon_yd, gamma_aco, c, b, h, d, nc, nb, phi, y_s, N_d, epsilon_c2, epsilon_cu, x_lim, n, tol_J, tol_k, tol_f, i, it_max, y_t, y_b, epsilon_0, k, epsilon_0_it, k_it, epsilon_t, epsilon_b, m, l_e)\n",
    "print('Compressao uniforme')\n",
    "print('-------------------')\n",
    "print('N_cr: {:.4f} kN'.format(N_cr_3*1e3))"
   ]
  },
  {
   "cell_type": "code",
   "execution_count": null,
   "metadata": {},
   "outputs": [],
   "source": [
    "nu_2 = np.zeros(15)\n",
    "mu_2 = np.zeros(15)\n",
    "print('e/h | nu_cr   | mu_cr')\n",
    "print('-----------------------')\n",
    "for i in range(len(e_2)):\n",
    "    nu_2[i] = N_cr_2[i]/(sigma_cd*b*h)\n",
    "    # mu_2[i] = nu_2[i]*e_2[i]/h\n",
    "    mu_2[i] = M_cr_2[i]/(sigma_cd*b*h**2)\n",
    "    formatted_string = '{:.1f} | {:.5f} | {:.5f}'.format(e_2[i]/h,nu_2[i], mu_2[i])\n",
    "    print(formatted_string)"
   ]
  },
  {
   "cell_type": "code",
   "execution_count": null,
   "metadata": {},
   "outputs": [],
   "source": [
    "plt.figure(figsize=(8, 6))\n",
    "plt.plot(e_2/h, N_cr_2*1e3, '-b', linewidth=2)\n",
    "plt.xlabel('$ e/h $', fontsize=12)\n",
    "plt.ylabel('$ N_{cr} \\; (kN)$', fontsize=12)\n",
    "plt.xlim(0, max(e_2/h) * 1.1)\n",
    "plt.ylim(0, max(N_cr_2*1e3) * 1.1)\n",
    "plt.title('Curva $e/h \\\\times N_{cr}$', fontsize=12)\n",
    "# plt.gca().set_aspect('equal', adjustable='box')\n",
    "plt.grid(True)\n",
    "plt.show()"
   ]
  },
  {
   "cell_type": "code",
   "execution_count": null,
   "metadata": {},
   "outputs": [],
   "source": [
    "plt.figure(figsize=(8, 6))\n",
    "plt.plot(e_2/h, nu_2, '-', color = 'purple', linewidth=2)\n",
    "plt.xlabel('$ e/h $', fontsize=12)\n",
    "plt.ylabel('$ \\\\nu_{cr}$', fontsize=12)\n",
    "plt.xlim(0, max(e_2/h) * 1.1)\n",
    "plt.ylim(0, max(nu_2) * 1.1)\n",
    "plt.title('Sensibildiade a imperfeicoes', fontsize=12)\n",
    "# plt.gca().set_aspect('equal', adjustable='box')\n",
    "plt.grid(True)\n",
    "plt.show()"
   ]
  },
  {
   "cell_type": "code",
   "execution_count": null,
   "metadata": {},
   "outputs": [],
   "source": [
    "index = (np.where(np.sqrt((N_r_1)**2) ==  min(abs(N_r_1))))[0][0]\n",
    "N_cr_2 = np.append(N_cr_2, N_r_1[index])\n",
    "M_cr_2 = np.append(M_cr_2, M_r_1[index])\n",
    "nu_2 = np.append(nu_2, N_r_1[index]/(sigma_cd*b*h))\n",
    "mu_2 = np.append(mu_2, M_r_1[index]/(sigma_cd*b*h**2))"
   ]
  },
  {
   "cell_type": "code",
   "execution_count": null,
   "metadata": {},
   "outputs": [],
   "source": [
    "plt.figure(figsize=(8, 6))\n",
    "plt.plot(nu_2,mu_2, '-', color = 'purple', label = 'ELUi',linewidth=1)\n",
    "plt.plot(nu_r_1,mu_r_1, '-', color = 'blue', label = 'ELU',linewidth=1)\n",
    "plt.xlabel('$  \\\\nu$', fontsize=12)\n",
    "plt.ylabel('$ \\mu$', fontsize=12)\n",
    "plt.xlim(0, max(nu_r_1) * 1.1)\n",
    "plt.ylim(0, max(mu_r_1) * 1.1)\n",
    "plt.title('Estados Limites Ultimos Ruina $\\\\times$ Instabilidade', fontsize=12)\n",
    "# plt.gca().set_aspect('equal', adjustable='box')\n",
    "plt.grid(True)\n",
    "plt.legend()\n",
    "plt.show()"
   ]
  },
  {
   "cell_type": "code",
   "execution_count": null,
   "metadata": {},
   "outputs": [],
   "source": [
    "plt.figure(figsize=(8, 6))\n",
    "plt.plot(N_cr_2*1e3,M_cr_2*1e5, '-', color = 'green', label = 'ELUi',linewidth=1)\n",
    "plt.plot(N_1*1e3,M_1*1e5, '-', color = 'purple', label = '$T_{eq}$',linewidth=1)\n",
    "plt.plot(N_r_1*1e3,M_r_1*1e5, '-', color = 'orange', label = 'ELU',linewidth=1)\n",
    "plt.plot(N_1*1e3,N_1*e_1*1e5, '-', color = 'red', label = '$M_1$',linewidth=1)\n",
    "plt.xlabel('$ N \\; (kN)$', fontsize=12)\n",
    "plt.ylabel('$ M  \\; (kNcm)$', fontsize=12)\n",
    "plt.xlim(0, max(N_r_1*1e3) * 1.1)\n",
    "plt.ylim(0, max(M_r_1*1e5) * 1.1)\n",
    "plt.title('Curvas ELUi, ELU, Teq e de momentos de 1a ordem', fontsize=12)\n",
    "# plt.gca().set_aspect('equal', adjustable='box')\n",
    "plt.grid(True)\n",
    "plt.legend()\n",
    "plt.show()"
   ]
  }
 ],
 "metadata": {
  "kernelspec": {
   "display_name": "Python 3",
   "language": "python",
   "name": "python3"
  },
  "language_info": {
   "codemirror_mode": {
    "name": "ipython",
    "version": 3
   },
   "file_extension": ".py",
   "mimetype": "text/x-python",
   "name": "python",
   "nbconvert_exporter": "python",
   "pygments_lexer": "ipython3",
   "version": "3.10.12"
  }
 },
 "nbformat": 4,
 "nbformat_minor": 2
}
