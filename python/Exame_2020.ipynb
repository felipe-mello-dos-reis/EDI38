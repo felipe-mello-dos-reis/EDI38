{
 "cells": [
  {
   "cell_type": "markdown",
   "metadata": {},
   "source": [
    "# Exame 2020"
   ]
  },
  {
   "cell_type": "code",
   "execution_count": 1,
   "metadata": {},
   "outputs": [],
   "source": [
    "import numpy as np\n",
    "import matplotlib.pyplot as plt\n",
    "from math import pi\n",
    "from nFNC_functions import *\n",
    "from Entrada_de_dados_2020 import *\n",
    "from ELUi_functions import *"
   ]
  },
  {
   "cell_type": "code",
   "execution_count": 2,
   "metadata": {},
   "outputs": [
    {
     "name": "stdout",
     "output_type": "stream",
     "text": [
      "[ 1.  2.  3.  4.  5.  6.  7.  8.  9. 10. 11. 12. 13. 14. 15. 16. 17. 18.\n",
      " 19. 20. 21. 22. 23. 24. 25.]\n"
     ]
    }
   ],
   "source": [
    "fck, gamma_c, sigma_cd, gamma_conc, f_yk, gamma_s, E_s, f_yd, epsilon_yd, gamma_aco, c, b, h, d, nc, nb, phi, y_s, N_d, M_d, epsilon_c2, epsilon_cu, x_lim, n, tol_J, tol_k, tol_f, i, it_max, y_t, y_b, epsilon_0, k, epsilon_0_it, k_it, epsilon_t, epsilon_b = Entrada_de_dados_2020()\n",
    "m = 100\n",
    "e = M_d/N_d\n",
    "i = np.sqrt((b*h**3/12)/(b*h))\n",
    "# lambda_esbeltez = l_e/i\n",
    "l_e_linspace = 0.5*np.linspace(2,50,25)\n",
    "print(l_e_linspace)"
   ]
  },
  {
   "cell_type": "code",
   "execution_count": 6,
   "metadata": {},
   "outputs": [
    {
     "name": "stdout",
     "output_type": "stream",
     "text": [
      "0.5\n",
      "0.01\n",
      "0.1\n",
      "65\n",
      "0.02\n"
     ]
    }
   ],
   "source": [
    "print(N_d)\n",
    "print(M_d)\n",
    "print(phi)\n",
    "print(fck)\n",
    "print(e)"
   ]
  },
  {
   "cell_type": "code",
   "execution_count": 5,
   "metadata": {},
   "outputs": [
    {
     "name": "stdout",
     "output_type": "stream",
     "text": [
      "Falha | l_e | lambda | e (cm) | f (cm) \n",
      "---------------------------------------\n",
      "False | 1.0 | 17.3205 | 2.000 | 0.0024\n",
      "False | 2.0 | 34.6410 | 2.000 | 0.0097\n",
      "False | 3.0 | 51.9615 | 2.000 | 0.0219\n",
      "False | 4.0 | 69.2820 | 2.000 | 0.0393\n",
      "False | 5.0 | 86.6025 | 2.000 | 0.0619\n",
      "False | 6.0 | 103.9230 | 2.000 | 0.0902\n",
      "False | 7.0 | 121.2436 | 2.000 | 0.1244\n",
      "False | 8.0 | 138.5641 | 2.000 | 0.1651\n",
      "False | 9.0 | 155.8846 | 2.000 | 0.2128\n",
      "False | 10.0 | 173.2051 | 2.000 | 0.2683\n",
      "False | 11.0 | 190.5256 | 2.000 | 0.3324\n",
      "False | 12.0 | 207.8461 | 2.000 | 0.4062\n",
      "False | 13.0 | 225.1666 | 2.000 | 0.4910\n",
      "False | 14.0 | 242.4871 | 2.000 | 0.5885\n",
      "False | 15.0 | 259.8076 | 2.000 | 0.7008\n",
      "False | 16.0 | 277.1281 | 2.000 | 0.8303\n",
      "False | 17.0 | 294.4486 | 2.000 | 0.9805\n",
      "False | 18.0 | 311.7691 | 2.000 | 1.1555\n",
      "False | 19.0 | 329.0897 | 2.000 | 1.3610\n",
      "False | 20.0 | 346.4102 | 2.000 | 1.6045\n",
      "False | 21.0 | 363.7307 | 2.000 | 1.8960\n",
      "False | 22.0 | 381.0512 | 2.000 | 2.2501\n",
      "False | 23.0 | 398.3717 | 2.000 | 2.6874\n",
      "False | 24.0 | 415.6922 | 2.000 | 3.2402\n",
      "False | 25.0 | 433.0127 | 2.000 | 3.9643\n"
     ]
    }
   ],
   "source": [
    "# Curva_viga_DF(fck, gamma_c, sigma_cd, gamma_conc, f_yk, gamma_s, E_s, f_yd, epsilon_yd, gamma_aco, c, b, h, d, nc, nb, phi, y_s, N_d, M_d, epsilon_c2, epsilon_cu, x_lim, n, tol_J, tol_k, tol_f, i, it_max, y_t, y_b, epsilon_0, k, epsilon_0_it, k_it, epsilon_t, epsilon_b, m, l_e)\n",
    "print('Falha | l_e | lambda | e (cm) | f (cm) ')\n",
    "print('---------------------------------------')\n",
    "for l_e in l_e_linspace:\n",
    "    Rompeu, e_1, f = Verificacao_DF(fck, gamma_c, sigma_cd, gamma_conc, f_yk, gamma_s, E_s, f_yd, epsilon_yd, gamma_aco, c, b, h, d, nc, nb, phi, y_s, N_d, M_d, epsilon_c2, epsilon_cu, x_lim, n, tol_J, tol_k, tol_f, i, it_max, y_t, y_b, epsilon_0, k, epsilon_0_it, k_it, epsilon_t, epsilon_b, m, l_e)\n",
    "    formatted_string = '{:} | {:03} | {:.4f} | {:.3f} | {:.4f}'.format(Rompeu, l_e, l_e/(h/np.sqrt(12)), e_1*100, f*100)\n",
    "    print(formatted_string)"
   ]
  },
  {
   "cell_type": "code",
   "execution_count": 7,
   "metadata": {},
   "outputs": [
    {
     "data": {
      "image/png": "[encoded data removed]",
      "text/plain": [
       "<Figure size 576x432 with 1 Axes>"
      ]
     },
     "metadata": {
      "needs_background": "light"
     },
     "output_type": "display_data"
    }
   ],
   "source": [
    "l_e = 2.8*2\n",
    "Rompeu, e_1, f_DF = Verificacao_DF(fck, gamma_c, sigma_cd, gamma_conc, f_yk, gamma_s, E_s, f_yd, epsilon_yd, gamma_aco, c, b, h, d, nc, nb, phi, y_s, N_d, M_d, epsilon_c2, epsilon_cu, x_lim, n, tol_J, tol_k, tol_f, i, it_max, y_t, y_b, epsilon_0, k, epsilon_0_it, k_it, epsilon_t, epsilon_b, m, l_e)\n",
    "_,_,_ = Pilar_padrao_M_i(fck, gamma_c, sigma_cd, gamma_conc, f_yk, gamma_s, E_s, f_yd, epsilon_yd, gamma_aco, c, b, h, d, nc, nb, phi, y_s, epsilon_c2, epsilon_cu, x_lim, n, tol_J, tol_k, tol_f, i, it_max, y_t, y_b, epsilon_0, k, epsilon_0_it, k_it, epsilon_t, epsilon_b, m, l_e, N_d, e)"
   ]
  },
  {
   "cell_type": "code",
   "execution_count": 10,
   "metadata": {},
   "outputs": [
    {
     "name": "stdout",
     "output_type": "stream",
     "text": [
      "0.0007815656554272835\n"
     ]
    }
   ],
   "source": [
    "print(f_DF)"
   ]
  },
  {
   "cell_type": "code",
   "execution_count": 8,
   "metadata": {},
   "outputs": [],
   "source": [
    "sol = Pilar_padrao_sol(fck, gamma_c, sigma_cd, gamma_conc, f_yk, gamma_s, E_s, f_yd, epsilon_yd, gamma_aco, c, b, h, d, nc, nb, phi, y_s, epsilon_c2, epsilon_cu, x_lim, n, tol_J, tol_k, tol_f, i, it_max, y_t, y_b, epsilon_0, k, epsilon_0_it, k_it, epsilon_t, epsilon_b, m, l_e, N_d, e)"
   ]
  },
  {
   "cell_type": "code",
   "execution_count": 9,
   "metadata": {},
   "outputs": [
    {
     "name": "stdout",
     "output_type": "stream",
     "text": [
      "M (kNcm) | k (m) | _r (cm)\n",
      "--------------------------\n",
      "1029.229 | 0.199 | 0.0199\n",
      "1032.386 | 0.199 | 0.0199\n"
     ]
    }
   ],
   "source": [
    "if sol != None:\n",
    "    print('M (kNcm) | k (m) | _r (cm)')\n",
    "    print('--------------------------')\n",
    "    for i in range(len(sol)):\n",
    "        print('{:.3f} | {:.3f} | {:.4f}'.format(sol[i][0]*1e5,sol[i][1],sol[i][2]*1e2))\n",
    "else:\n",
    "    print('Nao foi possivel equilibrar o pilar')"
   ]
  },
  {
   "cell_type": "code",
   "execution_count": null,
   "metadata": {},
   "outputs": [],
   "source": [
    "N_1, M_1 = Curva_de_projeto_ELUi(fck, gamma_c, sigma_cd, gamma_conc, f_yk, gamma_s, E_s, f_yd, epsilon_yd, gamma_aco, c, b, h, d, nc, nb, phi, y_s, epsilon_c2, epsilon_cu, x_lim, n, tol_J, tol_k, tol_f, i, it_max, y_t, y_b, epsilon_0, k, epsilon_0_it, k_it, epsilon_t, epsilon_b, m, l_e, e_1)\n",
    "nu_1 = np.array(N_1)/(sigma_cd*b*h)\n",
    "mu_1 = np.array(M_1)/(sigma_cd*b*h**2)"
   ]
  },
  {
   "cell_type": "code",
   "execution_count": null,
   "metadata": {},
   "outputs": [],
   "source": [
    "N_cr_1 = N_1[-1]\n",
    "M_cr_1 = M_1[-1]\n",
    "print('N_cr: {:.4f} kN'.format(N_cr_1*1e3))\n",
    "print('M_cr: {:.2f} kNcm'.format(M_cr_1*1e5))"
   ]
  },
  {
   "cell_type": "code",
   "execution_count": null,
   "metadata": {},
   "outputs": [],
   "source": [
    "N_r_1, M_r_1 = N_r_M_r(epsilon_c2, epsilon_cu, sigma_cd, n, b, f_yd, epsilon_yd, h, y_t, y_b, y_s, phi, nb, tol_k)\n",
    "nu_r_1 = np.array(N_r_1)/(sigma_cd*b*h)\n",
    "mu_r_1 = np.array(M_r_1)/(sigma_cd*b*h**2)"
   ]
  },
  {
   "cell_type": "code",
   "execution_count": null,
   "metadata": {},
   "outputs": [],
   "source": [
    "plt.figure(figsize=(8, 6))\n",
    "plt.plot(nu_1, mu_1, '-b', linewidth=2)\n",
    "plt.plot(nu_r_1, mu_r_1, '-r', linewidth=2)\n",
    "plt.xlabel('$ \\\\nu $', fontsize=12)\n",
    "plt.ylabel('$ \\mu $', fontsize=12)\n",
    "plt.xlim(min(nu_1), max(nu_r_1) * 1.1)\n",
    "plt.ylim(min(mu_1), max(mu_r_1) * 1.1)\n",
    "plt.title('Trajetoria de equilibrio', fontsize=12)\n",
    "# plt.gca().set_aspect('equal', adjustable='box')\n",
    "plt.grid(True)\n",
    "plt.show()"
   ]
  },
  {
   "cell_type": "code",
   "execution_count": null,
   "metadata": {},
   "outputs": [],
   "source": [
    "i = 1\n",
    "e_2 = np.zeros(15)\n",
    "N_cr_2 = np.zeros(15)\n",
    "M_cr_2 = np.zeros(15)\n",
    "\n",
    "while i <= 14:\n",
    "    e_2[i] = i*h/10\n",
    "    N_cr_2[i], M_cr_2[i] = Normal_critica(fck, gamma_c, sigma_cd, gamma_conc, f_yk, gamma_s, E_s, f_yd, epsilon_yd, gamma_aco, c, b, h, d, nc, nb, phi, y_s, epsilon_c2, epsilon_cu, x_lim, n, tol_J, tol_k, tol_f, i, it_max, y_t, y_b, epsilon_0, k, epsilon_0_it, k_it, epsilon_t, epsilon_b, m, l_e, e_2[i])\n",
    "    # M_cr_2[i] = N_cr_2[i]*e_2[i]\n",
    "    i = i + 1"
   ]
  },
  {
   "cell_type": "code",
   "execution_count": null,
   "metadata": {},
   "outputs": [],
   "source": [
    "N_cr_2[0] = Compressao_uniforme(fck, gamma_c, sigma_cd, gamma_conc, f_yk, gamma_s, E_s, f_yd, epsilon_yd, gamma_aco, c, b, h, d, nc, nb, phi, y_s, N_d, epsilon_c2, epsilon_cu, x_lim, n, tol_J, tol_k, tol_f, i, it_max, y_t, y_b, epsilon_0, k, epsilon_0_it, k_it, epsilon_t, epsilon_b, m, l_e)\n",
    "print('Compressao uniforme')\n",
    "print('-------------------')\n",
    "print('N_cr: {:.4f} kN'.format(N_cr_2[0]*1e3))"
   ]
  },
  {
   "cell_type": "code",
   "execution_count": null,
   "metadata": {},
   "outputs": [],
   "source": [
    "nu_2 = np.zeros(15)\n",
    "mu_2 = np.zeros(15)\n",
    "print('e/h | nu_cr   | mu_cr')\n",
    "print('-----------------------')\n",
    "for i in range(len(e_2)):\n",
    "    nu_2[i] = N_cr_2[i]/(sigma_cd*b*h)\n",
    "    # mu_2[i] = nu_2[i]*e_2[i]/h\n",
    "    mu_2[i] = M_cr_2[i]/(sigma_cd*b*h**2)\n",
    "    formatted_string = '{:.1f} | {:.5f} | {:.5f}'.format(e_2[i]/h,nu_2[i], mu_2[i])\n",
    "    print(formatted_string)"
   ]
  },
  {
   "cell_type": "code",
   "execution_count": null,
   "metadata": {},
   "outputs": [],
   "source": [
    "plt.figure(figsize=(8, 6))\n",
    "plt.plot(e_2/h, N_cr_2*1e3, '-b', linewidth=2)\n",
    "plt.xlabel('$ e/h $', fontsize=12)\n",
    "plt.ylabel('$ N_{cr} \\; (kN)$', fontsize=12)\n",
    "plt.xlim(0, max(e_2/h) * 1.1)\n",
    "plt.ylim(0, max(N_cr_2*1e3) * 1.1)\n",
    "plt.title('Curva $e/h \\\\times N_{cr}$', fontsize=12)\n",
    "# plt.gca().set_aspect('equal', adjustable='box')\n",
    "plt.grid(True)\n",
    "plt.show()"
   ]
  },
  {
   "cell_type": "code",
   "execution_count": null,
   "metadata": {},
   "outputs": [],
   "source": [
    "plt.figure(figsize=(8, 6))\n",
    "plt.plot(e_2/h, nu_2, '-', color = 'purple', linewidth=2)\n",
    "plt.xlabel('$ e/h $', fontsize=12)\n",
    "plt.ylabel('$ \\\\nu_{cr}$', fontsize=12)\n",
    "plt.xlim(0, max(e_2/h) * 1.1)\n",
    "plt.ylim(0, max(nu_2) * 1.1)\n",
    "plt.title('Sensibildiade a imperfeicoes', fontsize=12)\n",
    "# plt.gca().set_aspect('equal', adjustable='box')\n",
    "plt.grid(True)\n",
    "plt.show()"
   ]
  },
  {
   "cell_type": "code",
   "execution_count": null,
   "metadata": {},
   "outputs": [],
   "source": [
    "index = (np.where(np.sqrt((N_r_1)**2) ==  min(abs(N_r_1))))[0][0]\n",
    "N_cr_2 = np.append(N_cr_2, N_r_1[index])\n",
    "M_cr_2 = np.append(M_cr_2, M_r_1[index])\n",
    "nu_2 = np.append(nu_2, N_r_1[index]/(sigma_cd*b*h))\n",
    "mu_2 = np.append(mu_2, M_r_1[index]/(sigma_cd*b*h**2))"
   ]
  },
  {
   "cell_type": "code",
   "execution_count": null,
   "metadata": {},
   "outputs": [],
   "source": [
    "plt.figure(figsize=(8, 6))\n",
    "plt.plot(nu_2,mu_2, '-', color = 'purple', label = 'ELUi',linewidth=1)\n",
    "plt.plot(nu_r_1,mu_r_1, '-', color = 'blue', label = 'ELU',linewidth=1)\n",
    "plt.xlabel('$  \\\\nu$', fontsize=12)\n",
    "plt.ylabel('$ \\mu$', fontsize=12)\n",
    "plt.xlim(0, max(nu_r_1) * 1.1)\n",
    "plt.ylim(0, max(mu_r_1) * 1.1)\n",
    "plt.title('Estados Limites Ultimos Ruina $\\\\times$ Instabilidade', fontsize=12)\n",
    "# plt.gca().set_aspect('equal', adjustable='box')\n",
    "plt.grid(True)\n",
    "plt.legend()\n",
    "plt.show()"
   ]
  },
  {
   "cell_type": "code",
   "execution_count": null,
   "metadata": {},
   "outputs": [],
   "source": [
    "plt.figure(figsize=(8, 6))\n",
    "plt.plot(N_cr_2*1e3,M_cr_2*1e5, '-', color = 'green', label = 'ELUi',linewidth=1)\n",
    "plt.plot(N_1*1e3,M_1*1e5, '-', color = 'purple', label = '$T_{eq}$',linewidth=1)\n",
    "plt.plot(N_r_1*1e3,M_r_1*1e5, '-', color = 'orange', label = 'ELU',linewidth=1)\n",
    "plt.plot(N_1*1e3,N_1*e_1*1e5, '-', color = 'red', label = '$M_1$',linewidth=1)\n",
    "plt.xlabel('$ N \\; (kN)$', fontsize=12)\n",
    "plt.ylabel('$ M  \\; (kNcm)$', fontsize=12)\n",
    "plt.xlim(0, max(N_r_1*1e3) * 1.1)\n",
    "plt.ylim(0, max(M_r_1*1e5) * 1.1)\n",
    "plt.title('Curvas ELUi, ELU, Teq e de momentos de 1a ordem', fontsize=12)\n",
    "# plt.gca().set_aspect('equal', adjustable='box')\n",
    "plt.grid(True)\n",
    "plt.legend()\n",
    "plt.show()"
   ]
  }
 ],
 "metadata": {
  "kernelspec": {
   "display_name": "Python 3",
   "language": "python",
   "name": "python3"
  },
  "language_info": {
   "codemirror_mode": {
    "name": "ipython",
    "version": 3
   },
   "file_extension": ".py",
   "mimetype": "text/x-python",
   "name": "python",
   "nbconvert_exporter": "python",
   "pygments_lexer": "ipython3",
   "version": "3.10.12"
  }
 },
 "nbformat": 4,
 "nbformat_minor": 2
}
